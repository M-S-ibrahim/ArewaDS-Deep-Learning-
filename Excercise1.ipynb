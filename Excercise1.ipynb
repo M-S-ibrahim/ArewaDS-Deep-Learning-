{
 "cells": [
  {
   "cell_type": "markdown",
   "metadata": {},
   "source": [
    "# Arewa Data Science Academy\n",
    "## Deep Learning Cohort1.0\n",
    "Name: Muhammad Saleh Ibrahim\n",
    "Email: muhseem0@gmail.com \n",
    "Title: Week 1 Solution\n",
    "Exercises Solution"
   ]
  },
  {
   "cell_type": "markdown",
   "metadata": {},
   "source": [
    "# Create a random tensor with shape (7, 7)."
   ]
  },
  {
   "cell_type": "code",
   "execution_count": 1,
   "metadata": {},
   "outputs": [
    {
     "name": "stdout",
     "output_type": "stream",
     "text": [
      "2. Random tensor: tensor([[0.0612, 0.6781, 0.4004, 0.1286, 0.8961, 0.8941, 0.6515],\n",
      "        [0.8208, 0.3899, 0.7494, 0.0656, 0.1148, 0.3420, 0.1796],\n",
      "        [0.6469, 0.4402, 0.5822, 0.3618, 0.4530, 0.9804, 0.6949],\n",
      "        [0.5481, 0.9918, 0.6677, 0.3432, 0.3040, 0.7299, 0.7976],\n",
      "        [0.2954, 0.4823, 0.1040, 0.9800, 0.3728, 0.3261, 0.2274],\n",
      "        [0.5695, 0.8827, 0.7024, 0.7044, 0.5479, 0.1067, 0.7016],\n",
      "        [0.1088, 0.9128, 0.4760, 0.5850, 0.8366, 0.0469, 0.1055]])\n"
     ]
    }
   ],
   "source": [
    "# Import torch\n",
    "import torch\n",
    "\n",
    "# 2. Create a random tensor with shape (7, 7).\n",
    "random_tensor = torch.rand(7, 7)\n",
    "print(\"2. Random tensor:\", random_tensor)"
   ]
  },
  {
   "cell_type": "markdown",
   "metadata": {},
   "source": [
    "# 3. Perform a matrix multiplication on the tensor from 2 with another random tensor with shape (1, 7)."
   ]
  },
  {
   "cell_type": "code",
   "execution_count": 18,
   "metadata": {},
   "outputs": [
    {
     "name": "stdout",
     "output_type": "stream",
     "text": [
      "\n",
      "3. Matrix multiplication result: tensor([[1.6914],\n",
      "        [1.7581],\n",
      "        [2.0906],\n",
      "        [1.8975],\n",
      "        [1.7585],\n",
      "        [1.7961],\n",
      "        [1.8900]])\n"
     ]
    }
   ],
   "source": [
    "\n",
    "random_tensor_2 = torch.rand(1, 7)\n",
    "result_matrix_multiplication = torch.matmul(random_tensor, random_tensor_2.T)\n",
    "print(\"\\n3. Matrix multiplication result:\", result_matrix_multiplication)"
   ]
  },
  {
   "cell_type": "markdown",
   "metadata": {},
   "source": [
    "# 4. Set the random seed to 0 and do 2 & 3 over again."
   ]
  },
  {
   "cell_type": "code",
   "execution_count": 19,
   "metadata": {},
   "outputs": [
    {
     "name": "stdout",
     "output_type": "stream",
     "text": [
      "\n",
      "4. Repeated with seed 0: tensor([[1.8542],\n",
      "        [1.9611],\n",
      "        [2.2884],\n",
      "        [3.0481],\n",
      "        [1.7067],\n",
      "        [2.5290],\n",
      "        [1.7989]]) torch.Size([7, 1])\n"
     ]
    }
   ],
   "source": [
    "torch.manual_seed(0)\n",
    "random_tensor = torch.rand(7, 7)\n",
    "random_tensor_2 = torch.rand(1, 7)\n",
    "result_matrix_multiplication = torch.matmul(random_tensor, random_tensor_2.T)\n",
    "print(\"\\n4. Repeated with seed 0:\", result_matrix_multiplication, result_matrix_multiplication.shape)\n"
   ]
  },
  {
   "cell_type": "markdown",
   "metadata": {},
   "source": [
    "# 5. Set the GPU random seed if available."
   ]
  },
  {
   "cell_type": "code",
   "execution_count": 20,
   "metadata": {},
   "outputs": [],
   "source": [
    "if torch.cuda.is_available():\n",
    "    torch.cuda.manual_seed(1234)\n",
    "    print(\"\\n5. GPU random seed set to 1234\")\n"
   ]
  },
  {
   "cell_type": "markdown",
   "metadata": {},
   "source": [
    "# 6. Create two random tensors of shape (2, 3) and send them to the GPU."
   ]
  },
  {
   "cell_type": "code",
   "execution_count": 21,
   "metadata": {},
   "outputs": [
    {
     "name": "stdout",
     "output_type": "stream",
     "text": [
      "\n",
      "6. GPU not available. Skipping this step.\n"
     ]
    }
   ],
   "source": [
    "torch.manual_seed(1234)\n",
    "if torch.cuda.is_available():\n",
    "    tensor_A = torch.rand(2, 3, device='cuda')\n",
    "    tensor_B = torch.rand(2, 3, device='cuda')\n",
    "    print(\"\\n6. Random tensors on GPU:\")\n",
    "    print(\"Tensor A:\", tensor_A)\n",
    "    print(\"Tensor B:\", tensor_B)\n",
    "else:\n",
    "    print(\"\\n6. GPU not available. Skipping this step.\")\n"
   ]
  },
  {
   "cell_type": "markdown",
   "metadata": {},
   "source": [
    "# 7. Perform a matrix multiplication on the tensors from 6."
   ]
  },
  {
   "cell_type": "code",
   "execution_count": 22,
   "metadata": {},
   "outputs": [],
   "source": [
    "if torch.cuda.is_available():\n",
    "    result_matmul = torch.matmul(tensor_A, tensor_B.T)\n",
    "    print(\"\\n7. Matrix multiplication result:\", result_matmul, result_matmul.shape)\n"
   ]
  },
  {
   "cell_type": "markdown",
   "metadata": {},
   "source": [
    "\n",
    "# 8. Find the maximum and minimum values of the output of 7."
   ]
  },
  {
   "cell_type": "code",
   "execution_count": 23,
   "metadata": {},
   "outputs": [],
   "source": [
    "if torch.cuda.is_available():\n",
    "    max_value = result_matmul.max()\n",
    "    min_value = result_matmul.min()\n",
    "    print(\"\\n8. Max value:\", max_value)\n",
    "    print(\"Min value:\", min_value)"
   ]
  },
  {
   "cell_type": "markdown",
   "metadata": {},
   "source": [
    "# 9. Find the maximum and minimum index values of the output of 7."
   ]
  },
  {
   "cell_type": "code",
   "execution_count": 24,
   "metadata": {},
   "outputs": [],
   "source": [
    "if torch.cuda.is_available():\n",
    "    max_index = result_matmul.argmax()\n",
    "    min_index = result_matmul.argmin()\n",
    "    print(\"\\n9. Max index:\", max_index)\n",
    "    print(\"Min index:\", min_index)"
   ]
  },
  {
   "cell_type": "markdown",
   "metadata": {},
   "source": [
    "# 10. Make a random tensor with shape (1, 1, 1, 10) and remove dimensions."
   ]
  },
  {
   "cell_type": "code",
   "execution_count": 25,
   "metadata": {},
   "outputs": [
    {
     "name": "stdout",
     "output_type": "stream",
     "text": [
      "\n",
      "10. Original tensor and shape: tensor([[[[0.5349, 0.1988, 0.6592, 0.6569, 0.2328, 0.4251, 0.2071, 0.6297,\n",
      "           0.3653, 0.8513]]]]) torch.Size([1, 1, 1, 10])\n",
      "Squeezed tensor and shape: tensor([0.5349, 0.1988, 0.6592, 0.6569, 0.2328, 0.4251, 0.2071, 0.6297, 0.3653,\n",
      "        0.8513]) torch.Size([10])\n"
     ]
    }
   ],
   "source": [
    "torch.manual_seed(7)\n",
    "random_tensor = torch.rand(1, 1, 1, 10)\n",
    "squeezed_tensor = random_tensor.squeeze()\n",
    "print(\"\\n10. Original tensor and shape:\", random_tensor, random_tensor.shape)\n",
    "print(\"Squeezed tensor and shape:\", squeezed_tensor, squeezed_tensor.shape)"
   ]
  }
 ],
 "metadata": {
  "kernelspec": {
   "display_name": "Python 3",
   "language": "python",
   "name": "python3"
  },
  "language_info": {
   "codemirror_mode": {
    "name": "ipython",
    "version": 3
   },
   "file_extension": ".py",
   "mimetype": "text/x-python",
   "name": "python",
   "nbconvert_exporter": "python",
   "pygments_lexer": "ipython3",
   "version": "3.12.1"
  }
 },
 "nbformat": 4,
 "nbformat_minor": 2
}
