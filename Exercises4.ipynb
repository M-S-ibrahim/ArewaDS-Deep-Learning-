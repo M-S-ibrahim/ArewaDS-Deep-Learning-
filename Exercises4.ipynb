{
  "nbformat": 4,
  "nbformat_minor": 0,
  "metadata": {
    "colab": {
      "name": "03_pytorch_computer_vision_exercises.ipynb",
      "provenance": [],
      "include_colab_link": true
    },
    "kernelspec": {
      "name": "python3",
      "display_name": "Python 3"
    },
    "language_info": {
      "name": "python"
    },
    "accelerator": "GPU"
  },
  "cells": [
    {
      "cell_type": "markdown",
      "metadata": {
        "id": "view-in-github",
        "colab_type": "text"
      },
      "source": [
        "<a href=\"https://colab.research.google.com/github/M-S-ibrahim/ArewaDS-Deep-Learning-/blob/main/Exercises4.ipynb\" target=\"_parent\"><img src=\"https://colab.research.google.com/assets/colab-badge.svg\" alt=\"Open In Colab\"/></a>"
      ]
    },
    {
      "cell_type": "markdown",
      "source": [
        "# 03. PyTorch Computer Vision Exercises\n",
        "\n",
        "The following is a collection of exercises based on computer vision fundamentals in PyTorch.\n",
        "\n",
        "They're a bunch of fun.\n",
        "\n",
        "You're going to get to write plenty of code!\n",
        "\n",
        "## Resources\n",
        "\n",
        "1. These exercises are based on [notebook 03 of the Learn PyTorch for Deep Learning course](https://www.learnpytorch.io/03_pytorch_computer_vision/).\n",
        "2. See a live [walkthrough of the solutions (errors and all) on YouTube](https://youtu.be/_PibmqpEyhA).\n",
        "  * **Note:** Going through these exercises took me just over 3 hours of solid coding, so you should expect around the same.\n",
        "3. See [other solutions on the course GitHub](https://github.com/mrdbourke/pytorch-deep-learning/tree/main/extras/solutions)."
      ],
      "metadata": {
        "id": "Vex99np2wFVt"
      }
    },
    {
      "cell_type": "code",
      "source": [
        "# Check for GPU\n",
        "!nvidia-smi"
      ],
      "metadata": {
        "colab": {
          "base_uri": "https://localhost:8080/"
        },
        "id": "GaeYzOTLwWh2",
        "outputId": "26f83f94-6b82-4fa7-ed75-e13df5777a77"
      },
      "execution_count": 5,
      "outputs": [
        {
          "output_type": "stream",
          "name": "stdout",
          "text": [
            "Thu Apr 24 23:37:38 2025       \n",
            "+-----------------------------------------------------------------------------------------+\n",
            "| NVIDIA-SMI 550.54.15              Driver Version: 550.54.15      CUDA Version: 12.4     |\n",
            "|-----------------------------------------+------------------------+----------------------+\n",
            "| GPU  Name                 Persistence-M | Bus-Id          Disp.A | Volatile Uncorr. ECC |\n",
            "| Fan  Temp   Perf          Pwr:Usage/Cap |           Memory-Usage | GPU-Util  Compute M. |\n",
            "|                                         |                        |               MIG M. |\n",
            "|=========================================+========================+======================|\n",
            "|   0  Tesla T4                       Off |   00000000:00:04.0 Off |                    0 |\n",
            "| N/A   33C    P8              9W /   70W |       2MiB /  15360MiB |      0%      Default |\n",
            "|                                         |                        |                  N/A |\n",
            "+-----------------------------------------+------------------------+----------------------+\n",
            "                                                                                         \n",
            "+-----------------------------------------------------------------------------------------+\n",
            "| Processes:                                                                              |\n",
            "|  GPU   GI   CI        PID   Type   Process name                              GPU Memory |\n",
            "|        ID   ID                                                               Usage      |\n",
            "|=========================================================================================|\n",
            "|  No running processes found                                                             |\n",
            "+-----------------------------------------------------------------------------------------+\n"
          ]
        }
      ]
    },
    {
      "cell_type": "code",
      "source": [
        "# Import torch\n",
        "import torch\n",
        "\n",
        "# Exercises require PyTorch > 1.10.0\n",
        "print(torch.__version__)\n",
        "\n",
        "# TODO: Setup device agnostic code\n",
        "device = \"cuda\" if torch.cuda.is_available() else \"cpu\""
      ],
      "metadata": {
        "colab": {
          "base_uri": "https://localhost:8080/"
        },
        "id": "DNwZLMbCzJLk",
        "outputId": "4e8a4263-53e9-43a1-c765-03bc3a01e97c"
      },
      "execution_count": 1,
      "outputs": [
        {
          "output_type": "stream",
          "name": "stdout",
          "text": [
            "2.6.0+cu124\n"
          ]
        }
      ]
    },
    {
      "cell_type": "markdown",
      "source": [
        "## 1. What are 3 areas in industry where computer vision is currently being used?"
      ],
      "metadata": {
        "id": "FSFX7tc1w-en"
      }
    },
    {
      "cell_type": "code",
      "source": [
        "print(\"1. Self-driving cars: Computer vision is used to identify objects such as pedestrians, other vehicles, and traffic signals, enabling autonomous navigation.\")\n",
        "print(\"2. Medical imaging: Computer vision algorithms are used to analyze medical images like X-rays, CT scans, and MRIs to detect diseases and abnormalities.\")\n",
        "print(\"3. Retail analytics: Computer vision can track customer behavior, optimize store layouts, and enhance the shopping experience.\")"
      ],
      "metadata": {
        "id": "VyWRkvWGbCXj",
        "outputId": "1344f226-aef1-4b26-84ca-6d7e5080c405",
        "colab": {
          "base_uri": "https://localhost:8080/"
        }
      },
      "execution_count": 2,
      "outputs": [
        {
          "output_type": "stream",
          "name": "stdout",
          "text": [
            "1. Self-driving cars: Computer vision is used to identify objects such as pedestrians, other vehicles, and traffic signals, enabling autonomous navigation.\n",
            "2. Medical imaging: Computer vision algorithms are used to analyze medical images like X-rays, CT scans, and MRIs to detect diseases and abnormalities.\n",
            "3. Retail analytics: Computer vision can track customer behavior, optimize store layouts, and enhance the shopping experience.\n"
          ]
        }
      ]
    },
    {
      "cell_type": "markdown",
      "source": [
        "## 2. Search \"what is overfitting in machine learning\" and write down a sentence about what you find."
      ],
      "metadata": {
        "id": "oBK-WI6YxDYa"
      }
    },
    {
      "cell_type": "code",
      "source": [
        "print(\"Overfitting in machine learning occurs when a model learns the training data too well, including its noise and outliers, and thus performs poorly on unseen data.\")"
      ],
      "metadata": {
        "id": "d1rxD6GObCqh",
        "outputId": "60dae691-8471-437e-f69d-38a8cee39564",
        "colab": {
          "base_uri": "https://localhost:8080/"
        }
      },
      "execution_count": 3,
      "outputs": [
        {
          "output_type": "stream",
          "name": "stdout",
          "text": [
            "Overfitting in machine learning occurs when a model learns the training data too well, including its noise and outliers, and thus performs poorly on unseen data.\n"
          ]
        }
      ]
    },
    {
      "cell_type": "markdown",
      "source": [
        "## 3. Search \"ways to prevent overfitting in machine learning\", write down 3 of the things you find and a sentence about each.\n",
        "> **Note:** there are lots of these, so don't worry too much about all of them, just pick 3 and start with those."
      ],
      "metadata": {
        "id": "XeYFEqw8xK26"
      }
    },
    {
      "cell_type": "code",
      "source": [
        "print(\"1. Data augmentation: Artificially increasing the size and diversity of the training dataset by applying transformations like rotations, flips, and crops helps the model generalize better.\")\n",
        "print(\"2. Regularization: Techniques like L1 and L2 regularization add penalty terms to the loss function, discouraging the model from assigning excessively large weights to individual features, thus reducing overfitting.\")\n",
        "print(\"3. Dropout: Randomly deactivating neurons during training forces the network to learn more robust features, preventing reliance on specific neurons and improving generalization to unseen data.\")"
      ],
      "metadata": {
        "id": "PNujL8qsJQqr",
        "outputId": "24510fab-713a-4486-c358-bdbb2d8602f9",
        "colab": {
          "base_uri": "https://localhost:8080/"
        }
      },
      "execution_count": 4,
      "outputs": [
        {
          "output_type": "stream",
          "name": "stdout",
          "text": [
            "1. Data augmentation: Artificially increasing the size and diversity of the training dataset by applying transformations like rotations, flips, and crops helps the model generalize better.\n",
            "2. Regularization: Techniques like L1 and L2 regularization add penalty terms to the loss function, discouraging the model from assigning excessively large weights to individual features, thus reducing overfitting.\n",
            "3. Dropout: Randomly deactivating neurons during training forces the network to learn more robust features, preventing reliance on specific neurons and improving generalization to unseen data.\n"
          ]
        }
      ]
    },
    {
      "cell_type": "markdown",
      "source": [
        "## 4. Spend 20-minutes reading and clicking through the [CNN Explainer website](https://poloclub.github.io/cnn-explainer/).\n",
        "\n",
        "* Upload your own example image using the \"upload\" button on the website and see what happens in each layer of a CNN as your image passes through it."
      ],
      "metadata": {
        "id": "DKdEEFEqxM-8"
      }
    },
    {
      "cell_type": "code",
      "source": [
        "print('its very impactful, i learned about CNN and everthing related to it')"
      ],
      "metadata": {
        "id": "TqZaJIRMbFtS",
        "outputId": "98b6f0fd-75d0-45f4-d29c-3d14247cb075",
        "colab": {
          "base_uri": "https://localhost:8080/"
        }
      },
      "execution_count": 6,
      "outputs": [
        {
          "output_type": "stream",
          "name": "stdout",
          "text": [
            "its very impactful, i learned about CNN and everthing related to it\n"
          ]
        }
      ]
    },
    {
      "cell_type": "markdown",
      "source": [
        "## 5. Load the [`torchvision.datasets.MNIST()`](https://pytorch.org/vision/stable/generated/torchvision.datasets.MNIST.html#torchvision.datasets.MNIST) train and test datasets."
      ],
      "metadata": {
        "id": "lvf-3pODxXYI"
      }
    },
    {
      "cell_type": "code",
      "source": [
        "from torchvision import datasets\n",
        "from torchvision.transforms import ToTensor\n",
        "\n",
        "# Download training data from open datasets.\n",
        "training_data = datasets.MNIST(\n",
        "    root=\"data\",\n",
        "    train=True,\n",
        "    download=True,\n",
        "    transform=ToTensor(),\n",
        ")\n",
        "\n",
        "# Download test data from open datasets.\n",
        "test_data = datasets.MNIST(\n",
        "    root=\"data\",\n",
        "    train=False,\n",
        "    download=True,\n",
        "    transform=ToTensor(),\n",
        ")"
      ],
      "metadata": {
        "id": "V7J3cONSKeIR",
        "outputId": "eb59d444-0dfb-4138-d278-38e412377a97",
        "colab": {
          "base_uri": "https://localhost:8080/"
        }
      },
      "execution_count": 7,
      "outputs": [
        {
          "output_type": "stream",
          "name": "stderr",
          "text": [
            "100%|██████████| 9.91M/9.91M [00:00<00:00, 18.4MB/s]\n",
            "100%|██████████| 28.9k/28.9k [00:00<00:00, 495kB/s]\n",
            "100%|██████████| 1.65M/1.65M [00:00<00:00, 3.94MB/s]\n",
            "100%|██████████| 4.54k/4.54k [00:00<00:00, 7.70MB/s]\n"
          ]
        }
      ]
    },
    {
      "cell_type": "markdown",
      "source": [
        "## 6. Visualize at least 5 different samples of the MNIST training dataset."
      ],
      "metadata": {
        "id": "qxZW-uAbxe_F"
      }
    },
    {
      "cell_type": "code",
      "source": [
        "import matplotlib.pyplot as plt\n",
        "\n",
        "figure = plt.figure(figsize=(8, 8))\n",
        "cols, rows = 3, 3\n",
        "for i in range(1, cols * rows + 1):\n",
        "    sample_idx = torch.randint(len(training_data), size=(1,)).item()\n",
        "    img, label = training_data[sample_idx]\n",
        "    figure.add_subplot(rows, cols, i)\n",
        "    plt.title(label)\n",
        "    plt.axis(\"off\")\n",
        "    plt.imshow(img.squeeze(), cmap=\"gray\")\n",
        "plt.show()"
      ],
      "metadata": {
        "id": "6bV1w_NqKvmR",
        "outputId": "ca530ee8-e3b6-45cf-c89d-b6400bd98a9c",
        "colab": {
          "base_uri": "https://localhost:8080/",
          "height": 675
        }
      },
      "execution_count": 8,
      "outputs": [
        {
          "output_type": "display_data",
          "data": {
            "text/plain": [
              "<Figure size 800x800 with 9 Axes>"
            ],
            "image/png": "[encoded data removed]"
          },
          "metadata": {}
        }
      ]
    },
    {
      "cell_type": "markdown",
      "source": [
        "## 7. Turn the MNIST train and test datasets into dataloaders using `torch.utils.data.DataLoader`, set the `batch_size=32`."
      ],
      "metadata": {
        "id": "JAPDzW0wxhi3"
      }
    },
    {
      "cell_type": "code",
      "source": [
        "from torch.utils.data import DataLoader\n",
        "\n",
        "# Create dataloaders\n",
        "train_dataloader = DataLoader(training_data, batch_size=32)\n",
        "test_dataloader = DataLoader(test_data, batch_size=32)\n"
      ],
      "metadata": {
        "id": "jebMc9v2LBep"
      },
      "execution_count": 9,
      "outputs": []
    },
    {
      "cell_type": "markdown",
      "source": [
        "## 8. Recreate `model_2` used in notebook 03 (the same model from the [CNN Explainer website](https://poloclub.github.io/cnn-explainer/), also known as TinyVGG) capable of fitting on the MNIST dataset."
      ],
      "metadata": {
        "id": "bCCVfXk5xjYS"
      }
    },
    {
      "cell_type": "code",
      "source": [
        "from torch import nn\n",
        "\n",
        "class TinyVGG(nn.Module):\n",
        "    def __init__(self, input_shape: int, hidden_units: int, output_shape: int) -> None:\n",
        "        super().__init__()\n",
        "        self.conv_block_1 = nn.Sequential(\n",
        "            nn.Conv2d(in_channels=input_shape,\n",
        "                      out_channels=hidden_units,\n",
        "                      kernel_size=3,\n",
        "                      stride=1,\n",
        "                      padding=1),\n",
        "            nn.ReLU(),\n",
        "            nn.Conv2d(in_channels=hidden_units,\n",
        "                      out_channels=hidden_units,\n",
        "                      kernel_size=3,\n",
        "                      stride=1,\n",
        "                      padding=1),\n",
        "            nn.ReLU(),\n",
        "            nn.MaxPool2d(kernel_size=2,\n",
        "                         stride=2)\n",
        "        )\n",
        "        self.conv_block_2 = nn.Sequential(\n",
        "            nn.Conv2d(hidden_units, hidden_units, kernel_size=3, padding=1),\n",
        "            nn.ReLU(),\n",
        "            nn.Conv2d(hidden_units, hidden_units, kernel_size=3, padding=1),\n",
        "            nn.ReLU(),\n",
        "            nn.MaxPool2d(2)\n",
        "        )\n",
        "        self.classifier = nn.Sequential(\n",
        "            nn.Flatten(),\n",
        "            # Where did this in_features shape come from?\n",
        "            # It's because each layer of our network compresses and changes the shape of our inputs data.\n",
        "            nn.Linear(in_features=hidden_units*7*7,\n",
        "                      out_features=output_shape)\n",
        "        )\n",
        "\n",
        "    def forward(self, x: torch.Tensor):\n",
        "        x = self.conv_block_1(x)\n",
        "        x = self.conv_block_2(x)\n",
        "        x = self.classifier(x)\n",
        "        return x"
      ],
      "metadata": {
        "id": "ckaarvsaLSSp"
      },
      "execution_count": 11,
      "outputs": []
    },
    {
      "cell_type": "code",
      "source": [
        "# Example usage with MNIST (1 input channel, 10 output classes)\n",
        "model_2 = TinyVGG(input_shape=1, hidden_units=10, output_shape=10).to(device)\n",
        "model_2"
      ],
      "metadata": {
        "id": "nRyh5iJ5L9nI",
        "outputId": "ee672438-171f-48ae-f173-bd8b04a30d7e",
        "colab": {
          "base_uri": "https://localhost:8080/"
        }
      },
      "execution_count": 12,
      "outputs": [
        {
          "output_type": "execute_result",
          "data": {
            "text/plain": [
              "TinyVGG(\n",
              "  (conv_block_1): Sequential(\n",
              "    (0): Conv2d(1, 10, kernel_size=(3, 3), stride=(1, 1), padding=(1, 1))\n",
              "    (1): ReLU()\n",
              "    (2): Conv2d(10, 10, kernel_size=(3, 3), stride=(1, 1), padding=(1, 1))\n",
              "    (3): ReLU()\n",
              "    (4): MaxPool2d(kernel_size=2, stride=2, padding=0, dilation=1, ceil_mode=False)\n",
              "  )\n",
              "  (conv_block_2): Sequential(\n",
              "    (0): Conv2d(10, 10, kernel_size=(3, 3), stride=(1, 1), padding=(1, 1))\n",
              "    (1): ReLU()\n",
              "    (2): Conv2d(10, 10, kernel_size=(3, 3), stride=(1, 1), padding=(1, 1))\n",
              "    (3): ReLU()\n",
              "    (4): MaxPool2d(kernel_size=2, stride=2, padding=0, dilation=1, ceil_mode=False)\n",
              "  )\n",
              "  (classifier): Sequential(\n",
              "    (0): Flatten(start_dim=1, end_dim=-1)\n",
              "    (1): Linear(in_features=490, out_features=10, bias=True)\n",
              "  )\n",
              ")"
            ]
          },
          "metadata": {},
          "execution_count": 12
        }
      ]
    },
    {
      "cell_type": "markdown",
      "source": [
        "## 9. Train the model you built in exercise 8. for 5 epochs on CPU and GPU and see how long it takes on each."
      ],
      "metadata": {
        "id": "sf_3zUr7xlhy"
      }
    },
    {
      "cell_type": "code",
      "source": [
        "import time\n",
        "\n",
        "# Set the device\n",
        "device = torch.device(\"cuda\" if torch.cuda.is_available() else \"cpu\")\n",
        "print(f\"Using device: {device}\")\n",
        "\n",
        "# Define loss function and optimizer\n",
        "loss_fn = nn.CrossEntropyLoss()\n",
        "optimizer = torch.optim.Adam(model_2.parameters(), lr=0.001)\n",
        "\n",
        "# Training loop for CPU\n",
        "start_time = time.time()\n",
        "model_2.to(\"cpu\") # Ensure model is on CPU\n",
        "\n",
        "# Re-initialize optimizer with model parameters on CPU\n",
        "optimizer = torch.optim.Adam(model_2.parameters(), lr=0.001)\n",
        "\n",
        "epochs = 5\n",
        "for epoch in range(epochs):\n",
        "    print(f\"Epoch {epoch+1}\\n-------------------------------\")\n",
        "    for batch, (X, y) in enumerate(train_dataloader):\n",
        "        X, y = X.to(\"cpu\"), y.to(\"cpu\") # Ensure data is on CPU\n",
        "\n",
        "        # Compute prediction and loss\n",
        "        pred = model_2(X)\n",
        "        loss = loss_fn(pred, y)\n",
        "\n",
        "        # Backpropagation\n",
        "        optimizer.zero_grad()\n",
        "        loss.backward()\n",
        "        optimizer.step()\n",
        "\n",
        "        if batch % 100 == 0:\n",
        "            loss, current = loss.item(), batch * len(X)\n",
        "            print(f\"loss: {loss:>7f}  [{current:>5d}/{len(train_dataloader.dataset):>5d}]\")\n",
        "\n",
        "end_time = time.time()\n",
        "cpu_time = end_time - start_time\n",
        "print(f\"\\nTraining time on CPU: {cpu_time:.2f} seconds\")\n",
        "\n"
      ],
      "metadata": {
        "id": "WV7dlG5vMO94",
        "outputId": "78bd9bfd-b9c8-4763-ba73-1f232cc54f12",
        "colab": {
          "base_uri": "https://localhost:8080/"
        }
      },
      "execution_count": 15,
      "outputs": [
        {
          "output_type": "stream",
          "name": "stdout",
          "text": [
            "Using device: cuda\n",
            "Epoch 1\n",
            "-------------------------------\n",
            "loss: 0.006346  [    0/60000]\n",
            "loss: 0.012411  [ 3200/60000]\n",
            "loss: 0.014230  [ 6400/60000]\n",
            "loss: 0.027885  [ 9600/60000]\n",
            "loss: 0.010218  [12800/60000]\n",
            "loss: 0.017930  [16000/60000]\n",
            "loss: 0.001804  [19200/60000]\n",
            "loss: 0.004189  [22400/60000]\n",
            "loss: 0.013697  [25600/60000]\n",
            "loss: 0.025336  [28800/60000]\n",
            "loss: 0.157208  [32000/60000]\n",
            "loss: 0.025392  [35200/60000]\n",
            "loss: 0.085766  [38400/60000]\n",
            "loss: 0.036804  [41600/60000]\n",
            "loss: 0.008893  [44800/60000]\n",
            "loss: 0.019274  [48000/60000]\n",
            "loss: 0.084184  [51200/60000]\n",
            "loss: 0.003313  [54400/60000]\n",
            "loss: 0.032344  [57600/60000]\n",
            "Epoch 2\n",
            "-------------------------------\n",
            "loss: 0.007918  [    0/60000]\n",
            "loss: 0.003603  [ 3200/60000]\n",
            "loss: 0.021128  [ 6400/60000]\n",
            "loss: 0.014179  [ 9600/60000]\n",
            "loss: 0.008430  [12800/60000]\n",
            "loss: 0.011982  [16000/60000]\n",
            "loss: 0.001250  [19200/60000]\n",
            "loss: 0.005059  [22400/60000]\n",
            "loss: 0.015569  [25600/60000]\n",
            "loss: 0.022557  [28800/60000]\n",
            "loss: 0.139745  [32000/60000]\n",
            "loss: 0.025603  [35200/60000]\n",
            "loss: 0.064873  [38400/60000]\n",
            "loss: 0.043128  [41600/60000]\n",
            "loss: 0.011196  [44800/60000]\n",
            "loss: 0.017700  [48000/60000]\n",
            "loss: 0.091127  [51200/60000]\n",
            "loss: 0.002600  [54400/60000]\n",
            "loss: 0.026830  [57600/60000]\n",
            "Epoch 3\n",
            "-------------------------------\n",
            "loss: 0.006471  [    0/60000]\n",
            "loss: 0.004502  [ 3200/60000]\n",
            "loss: 0.030370  [ 6400/60000]\n",
            "loss: 0.012152  [ 9600/60000]\n",
            "loss: 0.015303  [12800/60000]\n",
            "loss: 0.007946  [16000/60000]\n",
            "loss: 0.000741  [19200/60000]\n",
            "loss: 0.004459  [22400/60000]\n",
            "loss: 0.018340  [25600/60000]\n",
            "loss: 0.025802  [28800/60000]\n",
            "loss: 0.138746  [32000/60000]\n",
            "loss: 0.031306  [35200/60000]\n",
            "loss: 0.062122  [38400/60000]\n",
            "loss: 0.062493  [41600/60000]\n",
            "loss: 0.005046  [44800/60000]\n",
            "loss: 0.013320  [48000/60000]\n",
            "loss: 0.085025  [51200/60000]\n",
            "loss: 0.002913  [54400/60000]\n",
            "loss: 0.022512  [57600/60000]\n",
            "Epoch 4\n",
            "-------------------------------\n",
            "loss: 0.006786  [    0/60000]\n",
            "loss: 0.002613  [ 3200/60000]\n",
            "loss: 0.025900  [ 6400/60000]\n",
            "loss: 0.020321  [ 9600/60000]\n",
            "loss: 0.020499  [12800/60000]\n",
            "loss: 0.006953  [16000/60000]\n",
            "loss: 0.000819  [19200/60000]\n",
            "loss: 0.001546  [22400/60000]\n",
            "loss: 0.010399  [25600/60000]\n",
            "loss: 0.015032  [28800/60000]\n",
            "loss: 0.162047  [32000/60000]\n",
            "loss: 0.053698  [35200/60000]\n",
            "loss: 0.043913  [38400/60000]\n",
            "loss: 0.042341  [41600/60000]\n",
            "loss: 0.007879  [44800/60000]\n",
            "loss: 0.019682  [48000/60000]\n",
            "loss: 0.041097  [51200/60000]\n",
            "loss: 0.002031  [54400/60000]\n",
            "loss: 0.022284  [57600/60000]\n",
            "Epoch 5\n",
            "-------------------------------\n",
            "loss: 0.006048  [    0/60000]\n",
            "loss: 0.002336  [ 3200/60000]\n",
            "loss: 0.034066  [ 6400/60000]\n",
            "loss: 0.017998  [ 9600/60000]\n",
            "loss: 0.022908  [12800/60000]\n",
            "loss: 0.003962  [16000/60000]\n",
            "loss: 0.000388  [19200/60000]\n",
            "loss: 0.000961  [22400/60000]\n",
            "loss: 0.025186  [25600/60000]\n",
            "loss: 0.007817  [28800/60000]\n",
            "loss: 0.169870  [32000/60000]\n",
            "loss: 0.032543  [35200/60000]\n",
            "loss: 0.017063  [38400/60000]\n",
            "loss: 0.059225  [41600/60000]\n",
            "loss: 0.006060  [44800/60000]\n",
            "loss: 0.026023  [48000/60000]\n",
            "loss: 0.043394  [51200/60000]\n",
            "loss: 0.001508  [54400/60000]\n",
            "loss: 0.043510  [57600/60000]\n",
            "\n",
            "Training time on CPU: 193.68 seconds\n"
          ]
        }
      ]
    },
    {
      "cell_type": "code",
      "source": [
        "# Training loop for GPU\n",
        "if torch.cuda.is_available(): # Only run if GPU is available\n",
        "    start_time = time.time()\n",
        "    model_2.to(device) # Ensure model is on GPU\n",
        "\n",
        "    # Re-initialize optimizer with model parameters on CPU\n",
        "    optimizer = torch.optim.Adam(model_2.parameters(), lr=0.001)\n",
        "\n",
        "    for epoch in range(epochs):\n",
        "        print(f\"Epoch {epoch+1}\\n-------------------------------\")\n",
        "        for batch, (X, y) in enumerate(train_dataloader):\n",
        "            X, y = X.to(device), y.to(device) # Ensure data is on GPU\n",
        "\n",
        "            # Compute prediction and loss\n",
        "            pred = model_2(X)\n",
        "            loss = loss_fn(pred, y)\n",
        "\n",
        "            # Backpropagation\n",
        "            optimizer.zero_grad()\n",
        "            loss.backward()\n",
        "            optimizer.step()\n",
        "            if batch % 100 == 0:\n",
        "                loss, current = loss.item(), batch * len(X)\n",
        "                print(f\"loss: {loss:>7f}  [{current:>5d}/{len(train_dataloader.dataset):>5d}]\")\n",
        "\n",
        "    end_time = time.time()\n",
        "    gpu_time = end_time - start_time\n",
        "    print(f\"\\nTraining time on GPU: {gpu_time:.2f} seconds\")\n",
        "else:\n",
        "  print(\"GPU not available\")"
      ],
      "metadata": {
        "id": "byRoAa8OMUVI",
        "outputId": "81d2c836-312e-4bf5-a25d-2fd83e6cccec",
        "colab": {
          "base_uri": "https://localhost:8080/"
        }
      },
      "execution_count": 16,
      "outputs": [
        {
          "output_type": "stream",
          "name": "stdout",
          "text": [
            "Epoch 1\n",
            "-------------------------------\n",
            "loss: 0.005613  [    0/60000]\n",
            "loss: 0.000768  [ 3200/60000]\n",
            "loss: 0.037686  [ 6400/60000]\n",
            "loss: 0.030859  [ 9600/60000]\n",
            "loss: 0.066155  [12800/60000]\n",
            "loss: 0.001358  [16000/60000]\n",
            "loss: 0.000314  [19200/60000]\n",
            "loss: 0.000502  [22400/60000]\n",
            "loss: 0.004632  [25600/60000]\n",
            "loss: 0.014161  [28800/60000]\n",
            "loss: 0.183133  [32000/60000]\n",
            "loss: 0.123919  [35200/60000]\n",
            "loss: 0.030366  [38400/60000]\n",
            "loss: 0.036516  [41600/60000]\n",
            "loss: 0.004151  [44800/60000]\n",
            "loss: 0.013888  [48000/60000]\n",
            "loss: 0.031138  [51200/60000]\n",
            "loss: 0.001263  [54400/60000]\n",
            "loss: 0.012546  [57600/60000]\n",
            "Epoch 2\n",
            "-------------------------------\n",
            "loss: 0.004732  [    0/60000]\n",
            "loss: 0.001248  [ 3200/60000]\n",
            "loss: 0.019690  [ 6400/60000]\n",
            "loss: 0.024455  [ 9600/60000]\n",
            "loss: 0.021444  [12800/60000]\n",
            "loss: 0.001889  [16000/60000]\n",
            "loss: 0.000555  [19200/60000]\n",
            "loss: 0.000355  [22400/60000]\n",
            "loss: 0.011265  [25600/60000]\n",
            "loss: 0.010320  [28800/60000]\n",
            "loss: 0.180732  [32000/60000]\n",
            "loss: 0.036550  [35200/60000]\n",
            "loss: 0.023247  [38400/60000]\n",
            "loss: 0.042382  [41600/60000]\n",
            "loss: 0.005405  [44800/60000]\n",
            "loss: 0.016928  [48000/60000]\n",
            "loss: 0.030459  [51200/60000]\n",
            "loss: 0.001419  [54400/60000]\n",
            "loss: 0.010721  [57600/60000]\n",
            "Epoch 3\n",
            "-------------------------------\n",
            "loss: 0.002184  [    0/60000]\n",
            "loss: 0.001523  [ 3200/60000]\n",
            "loss: 0.025212  [ 6400/60000]\n",
            "loss: 0.014777  [ 9600/60000]\n",
            "loss: 0.065998  [12800/60000]\n",
            "loss: 0.018100  [16000/60000]\n",
            "loss: 0.001566  [19200/60000]\n",
            "loss: 0.000681  [22400/60000]\n",
            "loss: 0.003063  [25600/60000]\n",
            "loss: 0.005706  [28800/60000]\n",
            "loss: 0.190733  [32000/60000]\n",
            "loss: 0.011660  [35200/60000]\n",
            "loss: 0.013942  [38400/60000]\n",
            "loss: 0.024750  [41600/60000]\n",
            "loss: 0.007839  [44800/60000]\n",
            "loss: 0.024536  [48000/60000]\n",
            "loss: 0.045636  [51200/60000]\n",
            "loss: 0.002415  [54400/60000]\n",
            "loss: 0.027547  [57600/60000]\n",
            "Epoch 4\n",
            "-------------------------------\n",
            "loss: 0.002862  [    0/60000]\n",
            "loss: 0.001682  [ 3200/60000]\n",
            "loss: 0.018953  [ 6400/60000]\n",
            "loss: 0.051986  [ 9600/60000]\n",
            "loss: 0.063995  [12800/60000]\n",
            "loss: 0.006139  [16000/60000]\n",
            "loss: 0.000339  [19200/60000]\n",
            "loss: 0.000388  [22400/60000]\n",
            "loss: 0.001521  [25600/60000]\n",
            "loss: 0.008543  [28800/60000]\n",
            "loss: 0.263999  [32000/60000]\n",
            "loss: 0.036242  [35200/60000]\n",
            "loss: 0.016931  [38400/60000]\n",
            "loss: 0.024533  [41600/60000]\n",
            "loss: 0.003191  [44800/60000]\n",
            "loss: 0.009430  [48000/60000]\n",
            "loss: 0.058410  [51200/60000]\n",
            "loss: 0.001720  [54400/60000]\n",
            "loss: 0.050005  [57600/60000]\n",
            "Epoch 5\n",
            "-------------------------------\n",
            "loss: 0.003728  [    0/60000]\n",
            "loss: 0.004728  [ 3200/60000]\n",
            "loss: 0.028926  [ 6400/60000]\n",
            "loss: 0.071191  [ 9600/60000]\n",
            "loss: 0.076910  [12800/60000]\n",
            "loss: 0.000957  [16000/60000]\n",
            "loss: 0.000160  [19200/60000]\n",
            "loss: 0.000240  [22400/60000]\n",
            "loss: 0.002302  [25600/60000]\n",
            "loss: 0.003170  [28800/60000]\n",
            "loss: 0.179796  [32000/60000]\n",
            "loss: 0.008076  [35200/60000]\n",
            "loss: 0.026094  [38400/60000]\n",
            "loss: 0.016180  [41600/60000]\n",
            "loss: 0.002122  [44800/60000]\n",
            "loss: 0.011257  [48000/60000]\n",
            "loss: 0.035734  [51200/60000]\n",
            "loss: 0.000703  [54400/60000]\n",
            "loss: 0.025513  [57600/60000]\n",
            "\n",
            "Training time on GPU: 52.48 seconds\n"
          ]
        }
      ]
    },
    {
      "cell_type": "markdown",
      "source": [
        "## 10. Make predictions using your trained model and visualize at least 5 of them comparing the prediciton to the target label."
      ],
      "metadata": {
        "id": "w1CsHhPpxp1w"
      }
    },
    {
      "cell_type": "code",
      "source": [
        "import matplotlib.pyplot as plt"
      ],
      "metadata": {
        "id": "lJrTn-cLOCJ_"
      },
      "execution_count": 17,
      "outputs": []
    },
    {
      "cell_type": "code",
      "source": [
        "# Get a batch of test data\n",
        "for X, y in test_dataloader:\n",
        "    X, y = X.to(device), y.to(device)\n",
        "    break\n",
        "\n",
        "# Make predictions\n",
        "with torch.inference_mode():\n",
        "  pred_probs = model_2(X)\n",
        "  pred_labels = torch.argmax(pred_probs, dim=1)\n",
        "\n",
        "# Visualize predictions\n",
        "n_samples = 5\n",
        "for i in range(n_samples):\n",
        "  plt.figure(figsize=(3,3))\n",
        "  plt.imshow(X[i].squeeze().cpu(), cmap=\"gray\")\n",
        "  plt.title(f\"Pred: {pred_labels[i].item()}, Target: {y[i].item()}\")\n",
        "  plt.axis(\"off\")\n",
        "  plt.show()\n"
      ],
      "metadata": {
        "id": "_YGgZvSobNxu",
        "outputId": "c11f1a13-273b-4c57-f861-df524cbd16fc",
        "colab": {
          "base_uri": "https://localhost:8080/",
          "height": 1000
        }
      },
      "execution_count": 18,
      "outputs": [
        {
          "output_type": "display_data",
          "data": {
            "text/plain": [
              "<Figure size 300x300 with 1 Axes>"
            ],
            "image/png": "[encoded data removed]"
          },
          "metadata": {}
        },
        {
          "output_type": "display_data",
          "data": {
            "text/plain": [
              "<Figure size 300x300 with 1 Axes>"
            ],
            "image/png": "[encoded data removed]"
          },
          "metadata": {}
        },
        {
          "output_type": "display_data",
          "data": {
            "text/plain": [
              "<Figure size 300x300 with 1 Axes>"
            ],
            "image/png": "[encoded data removed]"
          },
          "metadata": {}
        },
        {
          "output_type": "display_data",
          "data": {
            "text/plain": [
              "<Figure size 300x300 with 1 Axes>"
            ],
            "image/png": "[encoded data removed]"
          },
          "metadata": {}
        },
        {
          "output_type": "display_data",
          "data": {
            "text/plain": [
              "<Figure size 300x300 with 1 Axes>"
            ],
            "image/png": "[encoded data removed]"
          },
          "metadata": {}
        }
      ]
    },
    {
      "cell_type": "markdown",
      "source": [
        "## 11. Plot a confusion matrix comparing your model's predictions to the truth labels."
      ],
      "metadata": {
        "id": "qQwzqlBWxrpG"
      }
    },
    {
      "cell_type": "code",
      "source": [
        "from sklearn.metrics import confusion_matrix\n",
        "import seaborn as sns"
      ],
      "metadata": {
        "id": "BrWcwGw1OETm"
      },
      "execution_count": 19,
      "outputs": []
    },
    {
      "cell_type": "code",
      "source": [
        "# Convert tensors to numpy arrays for confusion matrix\n",
        "y_true = y.cpu().numpy()\n",
        "y_pred = pred_labels.cpu().numpy()\n",
        "\n",
        "# Create the confusion matrix\n",
        "cm = confusion_matrix(y_true, y_pred)\n",
        "\n",
        "# Plot the confusion matrix using seaborn\n",
        "plt.figure(figsize=(10, 8))\n",
        "sns.heatmap(cm, annot=True, fmt=\"d\", cmap=\"Blues\",\n",
        "            xticklabels=range(10), yticklabels=range(10)) # Assuming 10 classes in MNIST\n",
        "plt.xlabel(\"Predicted Label\")\n",
        "plt.ylabel(\"True Label\")\n",
        "plt.title(\"Confusion Matrix\")\n",
        "plt.show()"
      ],
      "metadata": {
        "id": "GwN0uGeiOJxn",
        "outputId": "fbb19aa3-a7b4-4a09-d10f-52f29f8f50b7",
        "colab": {
          "base_uri": "https://localhost:8080/",
          "height": 718
        }
      },
      "execution_count": 20,
      "outputs": [
        {
          "output_type": "display_data",
          "data": {
            "text/plain": [
              "<Figure size 1000x800 with 2 Axes>"
            ],
            "image/png": "[encoded data removed]"
          },
          "metadata": {}
        }
      ]
    },
    {
      "cell_type": "markdown",
      "source": [
        "## 12. Create a random tensor of shape `[1, 3, 64, 64]` and pass it through a `nn.Conv2d()` layer with various hyperparameter settings (these can be any settings you choose), what do you notice if the `kernel_size` parameter goes up and down?"
      ],
      "metadata": {
        "id": "lj6bDhoWxt2y"
      }
    },
    {
      "cell_type": "code",
      "source": [
        "# Create a random tensor of shape [1, 3, 64, 64]\n",
        "random_tensor = torch.randn(1, 3, 64, 64)\n",
        "\n",
        "# Define a function to test different kernel sizes\n",
        "def test_kernel_size(kernel_size):\n",
        "    conv_layer = nn.Conv2d(in_channels=3, out_channels=16, kernel_size=kernel_size)\n",
        "    output_tensor = conv_layer(random_tensor)\n",
        "    print(f\"Kernel size: {kernel_size}, Output tensor shape: {output_tensor.shape}\")\n",
        "\n",
        "# Test with different kernel sizes\n",
        "test_kernel_size(3)\n",
        "test_kernel_size(5)\n",
        "test_kernel_size(7)\n",
        "test_kernel_size(1)\n"
      ],
      "metadata": {
        "id": "leCTsqtSbR5P",
        "outputId": "3cbe1763-e595-4809-9657-2585aee341fd",
        "colab": {
          "base_uri": "https://localhost:8080/"
        }
      },
      "execution_count": 21,
      "outputs": [
        {
          "output_type": "stream",
          "name": "stdout",
          "text": [
            "Kernel size: 3, Output tensor shape: torch.Size([1, 16, 62, 62])\n",
            "Kernel size: 5, Output tensor shape: torch.Size([1, 16, 60, 60])\n",
            "Kernel size: 7, Output tensor shape: torch.Size([1, 16, 58, 58])\n",
            "Kernel size: 1, Output tensor shape: torch.Size([1, 16, 64, 64])\n"
          ]
        }
      ]
    },
    {
      "cell_type": "markdown",
      "source": [
        "## 13. Use a model similar to the trained `model_2` from notebook 03 to make predictions on the test [`torchvision.datasets.FashionMNIST`](https://pytorch.org/vision/main/generated/torchvision.datasets.FashionMNIST.html) dataset.\n",
        "* Then plot some predictions where the model was wrong alongside what the label of the image should've been.\n",
        "* After visualing these predictions do you think it's more of a modelling error or a data error?\n",
        "* As in, could the model do better or are the labels of the data too close to each other (e.g. a \"Shirt\" label is too close to \"T-shirt/top\")?"
      ],
      "metadata": {
        "id": "VHS20cNTxwSi"
      }
    },
    {
      "cell_type": "code",
      "source": [
        "# Load FashionMNIST test data\n",
        "test_data_fashion = datasets.FashionMNIST(\n",
        "    root=\"data\",\n",
        "    train=False,\n",
        "    download=True,\n",
        "    transform=ToTensor()\n",
        ")\n",
        "\n",
        "test_dataloader_fashion = DataLoader(test_data_fashion, batch_size=32)\n",
        "\n",
        "# Use the trained model_2 (assuming it's already trained)\n",
        "# Make predictions and compare to actual labels\n",
        "\n",
        "incorrect_predictions = []\n",
        "with torch.inference_mode():\n",
        "  for X, y in test_dataloader_fashion:\n",
        "    X, y = X.to(device), y.to(device)\n",
        "    pred_probs = model_2(X)\n",
        "    pred_labels = torch.argmax(pred_probs, dim=1)\n",
        "    for i in range(len(pred_labels)):\n",
        "      if pred_labels[i] != y[i]:\n",
        "        incorrect_predictions.append((X[i], pred_labels[i], y[i]))\n",
        "\n",
        "\n",
        "# Visualize incorrect predictions\n",
        "n_incorrect_to_plot = min(5, len(incorrect_predictions))\n",
        "for i in range(n_incorrect_to_plot):\n",
        "    image, pred_label, true_label = incorrect_predictions[i]\n",
        "    plt.imshow(image.squeeze().cpu(), cmap=\"gray\")\n",
        "    plt.title(f\"Pred: {pred_label.item()}, Target: {true_label.item()}\")\n",
        "    plt.axis(\"off\")\n",
        "    plt.show()"
      ],
      "metadata": {
        "id": "78a8LjtdbSZj",
        "outputId": "a7d890f8-835a-448b-88bd-8961ab5d244b",
        "colab": {
          "base_uri": "https://localhost:8080/",
          "height": 1000
        }
      },
      "execution_count": 22,
      "outputs": [
        {
          "output_type": "stream",
          "name": "stderr",
          "text": [
            "100%|██████████| 26.4M/26.4M [00:02<00:00, 11.9MB/s]\n",
            "100%|██████████| 29.5k/29.5k [00:00<00:00, 200kB/s]\n",
            "100%|██████████| 4.42M/4.42M [00:01<00:00, 3.71MB/s]\n",
            "100%|██████████| 5.15k/5.15k [00:00<00:00, 23.6MB/s]\n"
          ]
        },
        {
          "output_type": "display_data",
          "data": {
            "text/plain": [
              "<Figure size 640x480 with 1 Axes>"
            ],
            "image/png": "[encoded data removed]"
          },
          "metadata": {}
        },
        {
          "output_type": "display_data",
          "data": {
            "text/plain": [
              "<Figure size 640x480 with 1 Axes>"
            ],
            "image/png": "[encoded data removed]"
          },
          "metadata": {}
        },
        {
          "output_type": "display_data",
          "data": {
            "text/plain": [
              "<Figure size 640x480 with 1 Axes>"
            ],
            "image/png": "[encoded data removed]"
          },
          "metadata": {}
        },
        {
          "output_type": "display_data",
          "data": {
            "text/plain": [
              "<Figure size 640x480 with 1 Axes>"
            ],
            "image/png": "[encoded data removed]"
          },
          "metadata": {}
        },
        {
          "output_type": "display_data",
          "data": {
            "text/plain": [
              "<Figure size 640x480 with 1 Axes>"
            ],
            "image/png": "[encoded data removed]"
          },
          "metadata": {}
        }
      ]
    },
    {
      "cell_type": "code",
      "source": [
        "# Analysis\n",
        "print(\"Analysis of incorrect predictions:\")\n",
        "print(\"Based on the visualized incorrect predictions, it appears that some of the misclassifications might be due to the inherent similarity between certain clothing items.\")\n",
        "print(\"For example, a shirt might be misclassified as a t-shirt, or a pullover as a cardigan. This suggests that the data error, in which data labels are too close to each other, plays a role.\")\n",
        "print(\"While the model could potentially benefit from further training or architectural adjustments, the inherent ambiguity in the data itself might pose a limitation on the model's accuracy.\")"
      ],
      "metadata": {
        "id": "qLuVlP94OZGe",
        "outputId": "34d120a7-9ae1-44eb-b28b-b33d7999d1e2",
        "colab": {
          "base_uri": "https://localhost:8080/"
        }
      },
      "execution_count": 23,
      "outputs": [
        {
          "output_type": "stream",
          "name": "stdout",
          "text": [
            "Analysis of incorrect predictions:\n",
            "Based on the visualized incorrect predictions, it appears that some of the misclassifications might be due to the inherent similarity between certain clothing items.\n",
            "For example, a shirt might be misclassified as a t-shirt, or a pullover as a cardigan. This suggests that the data error, in which data labels are too close to each other, plays a role.\n",
            "While the model could potentially benefit from further training or architectural adjustments, the inherent ambiguity in the data itself might pose a limitation on the model's accuracy.\n"
          ]
        }
      ]
    }
  ]
}